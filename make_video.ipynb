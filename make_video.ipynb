{
 "cells": [
  {
   "cell_type": "code",
   "execution_count": 5,
   "metadata": {},
   "outputs": [],
   "source": [
    "import os\n",
    "from os.path import join\n",
    "import cv2\n",
    "import imageio\n",
    "import numpy as np\n",
    "from PIL import Image"
   ]
  },
  {
   "cell_type": "code",
   "execution_count": 2,
   "metadata": {},
   "outputs": [],
   "source": [
    "def make_video(data_dir, save_dir, save_name, fps):\n",
    "    '''\n",
    "    - data_dir: folder of images\n",
    "    '''\n",
    "    os.makedirs(save_dir, exist_ok=True)\n",
    "\n",
    "    image_list = [f for f in os.listdir(data_dir)]\n",
    "    image_list.sort()\n",
    "    frames = []\n",
    "\n",
    "    for image_path in image_list:\n",
    "        image = cv2.imread(join(data_dir, image_path))\n",
    "        image = cv2.cvtColor(image, cv2.COLOR_BGR2RGB)\n",
    "        frames.append(image)\n",
    "\n",
    "    frames = np.stack(frames, axis=0)\n",
    "\n",
    "    imageio.mimwrite(\n",
    "        join(save_dir, f'{save_name}.mp4'), \n",
    "        frames, \n",
    "        fps=fps, \n",
    "        quality=8, \n",
    "        macro_block_size=1\n",
    "    )\n",
    "    print(f'Video saved at {join(save_dir, f\"{save_name}.mp4\")}')"
   ]
  },
  {
   "cell_type": "code",
   "execution_count": null,
   "metadata": {},
   "outputs": [],
   "source": [
    "def image_grid(imgs, rows, cols):\n",
    "    assert len(imgs) == rows * cols\n",
    "\n",
    "    w, h = imgs[0].size\n",
    "    grid = Image.new(\"RGB\", size=(cols * w, rows * h))\n",
    "    grid_w, grid_h = grid.size\n",
    "\n",
    "    for i, img in enumerate(imgs):\n",
    "        grid.paste(img, box=(i % cols * w, i // cols * h))\n",
    "    return grid"
   ]
  },
  {
   "cell_type": "code",
   "execution_count": 6,
   "metadata": {},
   "outputs": [],
   "source": [
    "data_dir_1 = 'results/x_t_images'\n",
    "data_dir_2 = 'results/x_0_images'\n",
    "\n",
    "image_list_1 = [f for f in os.listdir(data_dir_1)]\n",
    "image_list_2 = [f for f in os.listdir(data_dir_2)]\n",
    "image_list_1.sort()\n",
    "image_list_2.sort()\n",
    "\n",
    "os.makedirs(join('results', 'concat'), exist_ok=True)\n",
    "\n",
    "for path1, path2 in zip(image_list_1, image_list_2):\n",
    "    image1 = Image.open(join(data_dir_1, path1)).convert('RGB')\n",
    "    image2 = Image.open(join(data_dir_2, path2)).convert('RGB')\n",
    "\n",
    "    grid = image_grid([image1, image2], rows=1, cols=2)\n",
    "\n",
    "    grid.save(join('results', 'concat', path1))"
   ]
  },
  {
   "cell_type": "code",
   "execution_count": 7,
   "metadata": {},
   "outputs": [
    {
     "name": "stdout",
     "output_type": "stream",
     "text": [
      "Video saved at results/concat_images.mp4\n"
     ]
    }
   ],
   "source": [
    "make_video(\n",
    "    data_dir='results/concat',\n",
    "    save_dir='results',\n",
    "    save_name='concat_images',\n",
    "    fps=10\n",
    ")"
   ]
  },
  {
   "cell_type": "code",
   "execution_count": null,
   "metadata": {},
   "outputs": [],
   "source": []
  }
 ],
 "metadata": {
  "kernelspec": {
   "display_name": "ddpm",
   "language": "python",
   "name": "python3"
  },
  "language_info": {
   "codemirror_mode": {
    "name": "ipython",
    "version": 3
   },
   "file_extension": ".py",
   "mimetype": "text/x-python",
   "name": "python",
   "nbconvert_exporter": "python",
   "pygments_lexer": "ipython3",
   "version": "3.8.15"
  },
  "orig_nbformat": 4
 },
 "nbformat": 4,
 "nbformat_minor": 2
}
